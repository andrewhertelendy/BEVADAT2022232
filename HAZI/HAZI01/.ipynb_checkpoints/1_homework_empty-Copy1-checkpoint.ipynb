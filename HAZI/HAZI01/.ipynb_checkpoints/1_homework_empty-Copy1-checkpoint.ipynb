{
 "cells": [
  {
   "cell_type": "code",
   "execution_count": 28,
   "metadata": {},
   "outputs": [
    {
     "data": {
      "text/plain": [
       "[1, 4, 7, 10]"
      ]
     },
     "execution_count": 28,
     "metadata": {},
     "output_type": "execute_result"
    }
   ],
   "source": [
    "#Create a function that returns with a subsest of a list.\n",
    "#The subset's starting and ending indexes should be set as input parameters (the list aswell).\n",
    "#return type: list\n",
    "#function name must be: subset\n",
    "#input parameters: input_list,start_index,end_index\n",
    "\n",
    "my_list = [1, 2, 3, 4, 5, 6, 7, 8, 9, 10]\n",
    "\n",
    "subset(my_list, 1, 4)\n",
    "every_nth(my_list, 3)"
   ]
  },
  {
   "cell_type": "code",
   "execution_count": 27,
   "metadata": {},
   "outputs": [],
   "source": [
    "def subset(input_list, start_index, end_index):\n",
    "    return input_list[start_index:end_index]"
   ]
  },
  {
   "cell_type": "code",
   "execution_count": 21,
   "metadata": {},
   "outputs": [
    {
     "data": {
      "text/plain": [
       "[1, 4, 7, 10]"
      ]
     },
     "execution_count": 21,
     "metadata": {},
     "output_type": "execute_result"
    }
   ],
   "source": [
    "#Create a function that returns every nth element of a list.\n",
    "#return type: list\n",
    "#function name must be: every_nth\n",
    "#input parameters: input_list,step_size"
   ]
  },
  {
   "cell_type": "code",
   "execution_count": 24,
   "metadata": {},
   "outputs": [],
   "source": [
    "def every_nth(input_list,step_size):\n",
    "    return input_list[::step_size]\n"
   ]
  },
  {
   "cell_type": "code",
   "execution_count": null,
   "metadata": {},
   "outputs": [],
   "source": [
    "#Create a function that can decide whether a list contains unique values or not\n",
    "#return type: bool\n",
    "#function name must be: unique\n",
    "#input parameters: input_list"
   ]
  },
  {
   "cell_type": "code",
   "execution_count": null,
   "metadata": {},
   "outputs": [],
   "source": [
    "def unique(input_list):\n",
    "    return len(input_list) == len(set(input_list))"
   ]
  },
  {
   "cell_type": "code",
   "execution_count": null,
   "metadata": {},
   "outputs": [],
   "source": [
    "#Create a function that can flatten a nested list ([[..],[..],..])\n",
    "#return type: list\n",
    "#fucntion name must be: flatten\n",
    "#input parameters: input_list"
   ]
  },
  {
   "cell_type": "code",
   "execution_count": null,
   "metadata": {},
   "outputs": [],
   "source": [
    "def flatten(input_list):\n",
    "    flattened_list = []\n",
    "    for item in input_list:\n",
    "        flattened_list.append(item)\n",
    "    return flattened_list"
   ]
  },
  {
   "cell_type": "code",
   "execution_count": null,
   "metadata": {},
   "outputs": [],
   "source": [
    "#Create a function that concatenates n lists\n",
    "#return type: list\n",
    "#function name must be: merge_lists\n",
    "#input parameters: *args\n"
   ]
  },
  {
   "cell_type": "code",
   "execution_count": null,
   "metadata": {},
   "outputs": [],
   "source": [
    "def merge_lists(*args):\n",
    "    merged_list = []\n",
    "    for arg in args:\n",
    "        merged_list.extend(arg)\n",
    "    return merged_list"
   ]
  },
  {
   "cell_type": "code",
   "execution_count": null,
   "metadata": {},
   "outputs": [],
   "source": [
    "#Create a function that can reverse a list of tuples\n",
    "#example [(1,2),...] => [(2,1),...]\n",
    "#return type: list\n",
    "#fucntion name must be: reverse_tuples\n",
    "#input parameters: input_list"
   ]
  },
  {
   "cell_type": "code",
   "execution_count": null,
   "metadata": {},
   "outputs": [],
   "source": [
    "def reverse_tuples(input_list):\n",
    "    reversed_list = [(b, a) for (a, b) in input_list]\n",
    "    return reversed_list"
   ]
  },
  {
   "cell_type": "code",
   "execution_count": null,
   "metadata": {},
   "outputs": [],
   "source": [
    "#Create a function that removes duplicates from a list\n",
    "#return type: list\n",
    "#fucntion name must be: remove_tuplicates\n",
    "#input parameters: input_list"
   ]
  },
  {
   "cell_type": "code",
   "execution_count": null,
   "metadata": {},
   "outputs": [],
   "source": [
    "def remove_duplicates(input_list):\n",
    "    return list(set(input_list))"
   ]
  },
  {
   "cell_type": "code",
   "execution_count": null,
   "metadata": {},
   "outputs": [],
   "source": [
    "#Create a function that transposes a nested list (matrix)\n",
    "#return type: list\n",
    "#function name must be: transpose\n",
    "#input parameters: input_list"
   ]
  },
  {
   "cell_type": "code",
   "execution_count": null,
   "metadata": {},
   "outputs": [],
   "source": [
    "def transpose(input_list):\n",
    "    return [list(row) for row in zip(*input_list)]"
   ]
  },
  {
   "cell_type": "code",
   "execution_count": null,
   "metadata": {},
   "outputs": [],
   "source": [
    "#Create a function that can split a nested list into chunks\n",
    "#chunk size is given by parameter\n",
    "#return type: list\n",
    "#function name must be: split_into_chunks\n",
    "#input parameters: input_list,chunk_size"
   ]
  },
  {
   "cell_type": "code",
   "execution_count": null,
   "metadata": {},
   "outputs": [],
   "source": [
    "def split_into_chunks(input_list, chunk_size):\n",
    "    return [input_list[i:i+chunk_size] for i in range(0, len(input_list), chunk_size)]"
   ]
  },
  {
   "cell_type": "code",
   "execution_count": null,
   "metadata": {},
   "outputs": [],
   "source": [
    "#Create a function that can merge n dictionaries\n",
    "#return type: dictionary\n",
    "#function name must be: merge_dicts\n",
    "#input parameters: *dict"
   ]
  },
  {
   "cell_type": "code",
   "execution_count": null,
   "metadata": {},
   "outputs": [],
   "source": [
    "def merge_dicts(*dicts):\n",
    "    result = {}\n",
    "    for dictionary in dicts:\n",
    "        result.update(dictionary)\n",
    "    return result"
   ]
  },
  {
   "cell_type": "code",
   "execution_count": null,
   "metadata": {},
   "outputs": [],
   "source": [
    "#Create a function that receives a list of integers and sort them by parity\n",
    "#and returns with a dictionary like this: {\"even\":[...],\"odd\":[...]}\n",
    "#return type: dict\n",
    "#function name must be: by_parity\n",
    "#input parameters: input_list"
   ]
  },
  {
   "cell_type": "code",
   "execution_count": null,
   "metadata": {},
   "outputs": [],
   "source": [
    "def by_parity(input_list):\n",
    "    result = {\"even\": [], \"odd\": []}\n",
    "    for number in input_list:\n",
    "        if number % 2 == 0:\n",
    "            result[\"even\"].append(number)\n",
    "        else:\n",
    "            result[\"odd\"].append(number)\n",
    "    return result"
   ]
  },
  {
   "cell_type": "code",
   "execution_count": null,
   "metadata": {},
   "outputs": [],
   "source": [
    "#Create a function that receives a dictionary like this: {\"some_key\":[1,2,3,4],\"another_key\":[1,2,3,4],....}\n",
    "#and return a dictionary like this : {\"some_key\":mean_of_values,\"another_key\":mean_of_values,....}\n",
    "#in short calculates the mean of the values key wise\n",
    "#return type: dict\n",
    "#function name must be: mean_key_value\n",
    "#input parameters: input_dict"
   ]
  },
  {
   "cell_type": "code",
   "execution_count": null,
   "metadata": {},
   "outputs": [],
   "source": [
    "def mean_key_value(input_dict):\n",
    "    result = {}\n",
    "    for key, values in input_dict.items():\n",
    "        result[key] = sum(values) / len(values)\n",
    "    return result"
   ]
  },
  {
   "cell_type": "code",
   "execution_count": null,
   "metadata": {},
   "outputs": [],
   "source": [
    "#If all the functions are created convert this notebook into a .py file and push to your repo"
   ]
  }
 ],
 "metadata": {
  "kernelspec": {
   "display_name": "Python 3 (ipykernel)",
   "language": "python",
   "name": "python3"
  },
  "language_info": {
   "codemirror_mode": {
    "name": "ipython",
    "version": 3
   },
   "file_extension": ".py",
   "mimetype": "text/x-python",
   "name": "python",
   "nbconvert_exporter": "python",
   "pygments_lexer": "ipython3",
   "version": "3.11.2"
  },
  "vscode": {
   "interpreter": {
    "hash": "b0fa6594d8f4cbf19f97940f81e996739fb7646882a419484c72d19e05852a7e"
   }
  }
 },
 "nbformat": 4,
 "nbformat_minor": 2
}
