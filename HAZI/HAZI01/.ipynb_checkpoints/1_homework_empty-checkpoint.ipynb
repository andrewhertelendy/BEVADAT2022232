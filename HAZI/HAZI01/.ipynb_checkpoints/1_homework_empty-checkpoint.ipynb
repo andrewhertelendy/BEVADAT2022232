{
 "cells": [
  {
   "cell_type": "code",
   "execution_count": 5,
   "metadata": {},
   "outputs": [
    {
     "data": {
      "text/plain": [
       "[2, 3, 4]"
      ]
     },
     "execution_count": 5,
     "metadata": {},
     "output_type": "execute_result"
    }
   ],
   "source": [
    "#Készíts egy függvényt ami paraméterként egy listát vár és visszatér ennek a listának egy rész listájával.\n",
    "#Paraméterként lehessen megadni, hogy mettől-meddig akarjuk visszakapni a listát.\n",
    "#Egy példa a bemenetre: input_list=[1,2,3,4,5], start=1, end=4\n",
    "#Egy példa a kimenetre: [2,3,4]\n",
    "#NOTE: ha indexelünk és 4-et adunk meg felső határnak akkor csak a 3. indexig kapjuk vissza az értékeket a 4. már nem lesz benne\n",
    "#NOTE: és ez az elvárt viselkedés ebben a feladatban is\n",
    "#return type: list\n",
    "#függvény neve legyen: subset\n",
    "\n",
    "input_list=[1,2,3,4,5]\n",
    "start=1\n",
    "end=4"
   ]
  },
  {
   "cell_type": "code",
   "execution_count": 4,
   "metadata": {},
   "outputs": [],
   "source": [
    "def subset(input_list, start, end):\n",
    "    return input_list[start:end]\n",
    "subset(input_list, start, end)"
   ]
  },
  {
   "cell_type": "code",
   "execution_count": 7,
   "metadata": {},
   "outputs": [
    {
     "data": {
      "text/plain": [
       "[1, 4, 7]"
      ]
     },
     "execution_count": 7,
     "metadata": {},
     "output_type": "execute_result"
    }
   ],
   "source": [
    "#Készíts egy függvényt ami egy listát vár paraméterként és ennek a listának minden n-edik elemét adja vissza.\n",
    "#Paraméterként lehessen állítani azt hogy hanyadik elemeket szeretnénk viszakapni.\n",
    "#NOTE: a 0. elem is legyen benne\n",
    "#Egy példa a bemenetre: input_list=[1,2,3,4,5,6,7,8,9], n=3\n",
    "#Egy példa a kimenetre: [1,4,7]\n",
    "#return type: list\n",
    "#függvény neve legyen: every_nth\n",
    "input_list=[1,2,3,4,5,6,7,8,9]\n",
    "n=3"
   ]
  },
  {
   "cell_type": "code",
   "execution_count": 6,
   "metadata": {},
   "outputs": [],
   "source": [
    "def every_nth(input_list,n):\n",
    "    return input_list[::n]\n",
    "every_nth(input_list, n)"
   ]
  },
  {
   "cell_type": "code",
   "execution_count": 9,
   "metadata": {},
   "outputs": [
    {
     "data": {
      "text/plain": [
       "True"
      ]
     },
     "execution_count": 9,
     "metadata": {},
     "output_type": "execute_result"
    }
   ],
   "source": [
    "#Készíts egy függvényt ami paraméterként egy listát vár és eldönti, hogy a listában csak egyedi értékek vannak-e\n",
    "#Egy bool-al térjen vissza: True:csak egyedi értékek vannak benne, False:van benne ismétlődés\n",
    "#Egy példa a bemenetre: [1,2,3,4,5,6,7]\n",
    "#Egy példa a kimenetre: True\n",
    "#return type: bool\n",
    "#függvény neve legyen: unique\n",
    "input_list = [1,2,3,4,5,6,7]"
   ]
  },
  {
   "cell_type": "code",
   "execution_count": 8,
   "metadata": {},
   "outputs": [],
   "source": [
    "def unique(input_list):\n",
    "    return len(input_list) == len(set(input_list))\n",
    "unique(input_list)"
   ]
  },
  {
   "cell_type": "code",
   "execution_count": 13,
   "metadata": {},
   "outputs": [
    {
     "data": {
      "text/plain": [
       "[1, 2, 3, 4, 5, 6]"
      ]
     },
     "execution_count": 13,
     "metadata": {},
     "output_type": "execute_result"
    }
   ],
   "source": [
    "#Készíts egy függvényt ami paraméterként egy 2 dimenziós listát vár és ezt a listát kitudja \"lapítani\"\n",
    "#Egy olyan listával térjen vissza amelyben nincsen több kisebb lista, azaz egy egy dimenziós listával.\n",
    "#Egy példa a bemenetre: [[1,2],[3,4],[5,6]]\n",
    "#Egy példa a kimenetre: [1,2,3,4,5,6]\n",
    "#NOTE: csak 2 dimenziós listát kezeljen nem kell ennél mélyebbet\n",
    "#return type: list\n",
    "#függvény neve legyen: flatten\n",
    "input_list = [[1,2],[3,4],[5,6]]"
   ]
  },
  {
   "cell_type": "code",
   "execution_count": 12,
   "metadata": {},
   "outputs": [],
   "source": [
    "def flatten(lst):\n",
    "    flattened_list = []\n",
    "    for sublist in lst:\n",
    "        for item in sublist:\n",
    "            flattened_list.append(item)\n",
    "    return flattened_list\n",
    "flatten(input_list)"
   ]
  },
  {
   "cell_type": "code",
   "execution_count": 15,
   "metadata": {},
   "outputs": [
    {
     "data": {
      "text/plain": [
       "[1, 2, 3, 4, 5, 6, 7, 8, 9]"
      ]
     },
     "execution_count": 15,
     "metadata": {},
     "output_type": "execute_result"
    }
   ],
   "source": [
    "#Készíts egy függvényt ami paraméterként n darab listát vár, és összfűzi ezeket a listákat.\n",
    "#Egy olya listával térjen vissza ami 1 dimenziós és tartalmazza az össze bemeneti lista kértékét\n",
    "#NOTE: sorrend nem számít\n",
    "#HINT: használj *args-ot az input paraméternél\n",
    "#Egy példa a bemenetre: lista_1 = [1,2,3], lista_2 = [4,5,6], ..... lista_n = [7,8,9]\n",
    "#Egy példa a kimenetre: [1,2,3,4,5,6,7,8,9]\n",
    "#return type: list\n",
    "#függvény neve legyen: merge_lists\n",
    "lista_1 = [1,2,3]\n",
    "lista_2 = [4,5,6]\n",
    "lista_3 = [7,8,9]"
   ]
  },
  {
   "cell_type": "code",
   "execution_count": 14,
   "metadata": {},
   "outputs": [],
   "source": [
    "def merge_lists(*args):\n",
    "    merged_list = []\n",
    "    for arg in args:\n",
    "        merged_list.extend(arg)\n",
    "    return merged_list\n",
    "merge_lists(lista_1, lista_2, lista_3)"
   ]
  },
  {
   "cell_type": "code",
   "execution_count": 17,
   "metadata": {},
   "outputs": [
    {
     "data": {
      "text/plain": [
       "[(2, 1), (4, 3)]"
      ]
     },
     "execution_count": 17,
     "metadata": {},
     "output_type": "execute_result"
    }
   ],
   "source": [
    "#Készíts egy függvényt ami paraméterként egy listát vár amiben 2 elemet tartalmazó tuple-ök vannak,\n",
    "#és visszatér ezeknek a tuple-nek a fordítottjával.\n",
    "#Egy példa a bemenetre: [(1,2),(3,4)]\n",
    "#Egy példa a kimenetre: [(2,1),(4,3)] \n",
    "#return type: list\n",
    "#függvény neve legyen: reverse_tuples\n",
    "input_list = [(1,2),(3,4)]"
   ]
  },
  {
   "cell_type": "code",
   "execution_count": 16,
   "metadata": {},
   "outputs": [],
   "source": [
    "def reverse_tuples(input_list):\n",
    "    reversed_list = [(a, b) for (b, a) in input_list]\n",
    "    return reversed_list\n",
    "reverse_tuples(input_list)"
   ]
  },
  {
   "cell_type": "code",
   "execution_count": 19,
   "metadata": {},
   "outputs": [
    {
     "data": {
      "text/plain": [
       "[1, 2, 3, 4, 5]"
      ]
     },
     "execution_count": 19,
     "metadata": {},
     "output_type": "execute_result"
    }
   ],
   "source": [
    "#Készíts egy függvényt ami paraméterként egy listát vár, és eltávolítja az ismétlődéseket a listából.\n",
    "#Egy olyan listával térjen vissza amiben csak a bemeneti lista egyedi értékei vannak benne.\n",
    "#Egy példa a bemenetre: [1,2,3,3,4,5]\n",
    "#Egy példa a kimenetre: [1,2,3,4,5]\n",
    "#return type: list\n",
    "#függvény neve legyen: remove_duplicates\n",
    "input_list = [1,2,3,3,4,5]"
   ]
  },
  {
   "cell_type": "code",
   "execution_count": 18,
   "metadata": {},
   "outputs": [],
   "source": [
    "def remove_duplicates(input_list):\n",
    "    return list(set(input_list))\n",
    "remove_duplicates(input_list)"
   ]
  },
  {
   "cell_type": "code",
   "execution_count": 21,
   "metadata": {},
   "outputs": [
    {
     "data": {
      "text/plain": [
       "[[1, 4, 7], [2, 5, 8], [3, 6, 9]]"
      ]
     },
     "execution_count": 21,
     "metadata": {},
     "output_type": "execute_result"
    }
   ],
   "source": [
    "#Készíts egy olyan függvényt ami paraméterként egy 2 dimenziós mátrixot vár és visszater a mátrix transzponáltjával.\n",
    "#Egy példa a bemenetre: [[1,2,3],\n",
    "#                        [4,5,6],\n",
    "#                        [7,8,9]]\n",
    "#\n",
    "#Egy példa a kimenetre: [[1,4,7],\n",
    "#                        [2,5,8],\n",
    "#                        [3,6,9]]\n",
    "#return type: list\n",
    "#függvény neve legyen: transpose\n",
    "input_list = [[1,2,3],\n",
    "              [4,5,6],\n",
    "              [7,8,9]]"
   ]
  },
  {
   "cell_type": "code",
   "execution_count": 20,
   "metadata": {},
   "outputs": [],
   "source": [
    "def transpose(input_list):\n",
    "    return [list(row) for row in zip(*input_list)]\n",
    "transpose(input_list)"
   ]
  },
  {
   "cell_type": "code",
   "execution_count": 23,
   "metadata": {},
   "outputs": [
    {
     "data": {
      "text/plain": [
       "[[1, 2, 3], [4, 5, 6], [7, 8]]"
      ]
     },
     "execution_count": 23,
     "metadata": {},
     "output_type": "execute_result"
    }
   ],
   "source": [
    "#Készíts egy függvényt ami paraméterként egy listát vár és visszatér a lista csoportosított változatával.\n",
    "#Egy olyan listával térjen vissza amiben a paraméterként átadott chunk_size méretű listák vannak.\n",
    "#Egy példa a bemenetre: [1,2,3,4,5,6,7,8]\n",
    "#Egy példa a kimenetre: [[1,2,3],[4,5,6],[7,8]]\n",
    "#NOTE: ha nem mindegyik lista elemet lehet chunk_size méretű listába tenni akkor a maradékot a példában látott módon kezeljétek\n",
    "#return type: list\n",
    "#függvény neve legyen: split_into_chunks\n",
    "input_list = [1,2,3,4,5,6,7,8]\n",
    "chunk_size = 3"
   ]
  },
  {
   "cell_type": "code",
   "execution_count": 22,
   "metadata": {},
   "outputs": [],
   "source": [
    "def split_into_chunks(input_list, chunk_size):\n",
    "    return [input_list[i:i+chunk_size] for i in range(0, len(input_list), chunk_size)]\n",
    "split_into_chunks(input_list, chunk_size)"
   ]
  },
  {
   "cell_type": "code",
   "execution_count": 36,
   "metadata": {},
   "outputs": [
    {
     "data": {
      "text/plain": [
       "{'one': 1, 'two': 2, 'four': 4, 'three': 3}"
      ]
     },
     "execution_count": 36,
     "metadata": {},
     "output_type": "execute_result"
    }
   ],
   "source": [
    "#Készíts egy függvényt ami paraméterként n darab dictionary-t vár és visszatér egy darab dictionary-vel.\n",
    "#Egy olyan dict-el térjen vissza miben az n darab bemeneti dict értékei benne vannak.\n",
    "#Egy példa a bemenetre: dict_1: {\"one\":1,\"two\":2}, dict_2: {\"four\":4,\"three\":3}\n",
    "#Egy példa a kimenetre: {\"one\":1,\"two\":2,\"four\":4,\"three\":3}\n",
    "#HINT: használj *args-ot\n",
    "#függvény neve legyen: merge_dicts\n",
    "dict_1 = {\"one\":1,\"two\":2}\n",
    "dict_2 = {\"four\":4,\"three\":3}"
   ]
  },
  {
   "cell_type": "code",
   "execution_count": 34,
   "metadata": {},
   "outputs": [],
   "source": [
    "def merge_dicts(*args):\n",
    "    result_dict = {}\n",
    "    for arg in args:\n",
    "        result_dict.update(arg)\n",
    "    return result_dict\n",
    "merge_dicts(dict_1,dict_2)"
   ]
  },
  {
   "cell_type": "code",
   "execution_count": 38,
   "metadata": {},
   "outputs": [
    {
     "data": {
      "text/plain": [
       "{'even': [2, 4, 6], 'odd': [1, 3, 5]}"
      ]
     },
     "execution_count": 38,
     "metadata": {},
     "output_type": "execute_result"
    }
   ],
   "source": [
    "#Készíts egy függvényt ami paraméterként egy listát vár amiben egész számok vannak és visszatér egy dict-el amiben szét vannak szedve paritás szerint.\n",
    "#Egy példa a bemenetre: [1,2,3,4,5,6]\n",
    "#Egy példa a kimenetre: {\"event\":[2,4,6],\"odd\":[1,3,5]}\n",
    "#return type: dict\n",
    "#függvény neve legyen: by_parity\n",
    "input_list = [1,2,3,4,5,6]"
   ]
  },
  {
   "cell_type": "code",
   "execution_count": 37,
   "metadata": {},
   "outputs": [],
   "source": [
    "def by_parity(input_list):\n",
    "    result = {\"even\": [], \"odd\": []}\n",
    "    for number in input_list:\n",
    "        if number % 2 == 0:\n",
    "            result[\"even\"].append(number)\n",
    "        else:\n",
    "            result[\"odd\"].append(number)\n",
    "    return result\n",
    "by_parity(input_list)"
   ]
  },
  {
   "cell_type": "code",
   "execution_count": 40,
   "metadata": {},
   "outputs": [
    {
     "data": {
      "text/plain": [
       "{'some_key': 2.5, 'another_key': 2.5}"
      ]
     },
     "execution_count": 40,
     "metadata": {},
     "output_type": "execute_result"
    }
   ],
   "source": [
    "#Készíts egy függvényt ami paraméterként egy dict-et vár és visszatér egy dict-el amiben az egyes kulcsokhoz tartozó értékek átlaga van.\n",
    "#Egy példa a bemenetre:{\"some_key\":[1,2,3,4],\"another_key\":[1,2,3,4]}\n",
    "#Egy példa a kimenetre: {\"some_key\":2.5,\"another_key\":2.5}\n",
    "#return type: dict\n",
    "#függvény neve legyen: mean_key_value\n",
    "input_dict = {\"some_key\":[1,2,3,4],\"another_key\":[1,2,3,4]}"
   ]
  },
  {
   "cell_type": "code",
   "execution_count": 39,
   "metadata": {},
   "outputs": [],
   "source": [
    "def mean_key_value(input_dict):\n",
    "    result = {}\n",
    "    for key, values in input_dict.items():\n",
    "        result[key] = sum(values) / len(values)\n",
    "    return result\n",
    "mean_key_value(input_dict)"
   ]
  },
  {
   "cell_type": "code",
   "execution_count": null,
   "metadata": {},
   "outputs": [],
   "source": [
    "#Ha végeztél a feladatokkal akkor ezt a jupytert alakítsd át egy .py file-ra \n",
    "#ha vscode-ban dolgozol: https://stackoverflow.com/questions/64297272/best-way-to-convert-ipynb-to-py-in-vscode\n",
    "#ha jupyter lab-ban dolgozol: https://stackoverflow.com/questions/52885901/how-to-save-python-script-as-py-file-on-jupyter-notebook"
   ]
  },
  {
   "cell_type": "code",
   "execution_count": null,
   "metadata": {},
   "outputs": [],
   "source": []
  },
  {
   "cell_type": "code",
   "execution_count": null,
   "metadata": {},
   "outputs": [],
   "source": []
  },
  {
   "cell_type": "code",
   "execution_count": null,
   "metadata": {},
   "outputs": [],
   "source": []
  }
 ],
 "metadata": {
  "kernelspec": {
   "display_name": "Python 3 (ipykernel)",
   "language": "python",
   "name": "python3"
  },
  "language_info": {
   "codemirror_mode": {
    "name": "ipython",
    "version": 3
   },
   "file_extension": ".py",
   "mimetype": "text/x-python",
   "name": "python",
   "nbconvert_exporter": "python",
   "pygments_lexer": "ipython3",
   "version": "3.11.2"
  },
  "vscode": {
   "interpreter": {
    "hash": "aee8b7b246df8f9039afb4144a1f6fd8d2ca17a180786b69acc140d282b71a49"
   }
  }
 },
 "nbformat": 4,
 "nbformat_minor": 2
}
