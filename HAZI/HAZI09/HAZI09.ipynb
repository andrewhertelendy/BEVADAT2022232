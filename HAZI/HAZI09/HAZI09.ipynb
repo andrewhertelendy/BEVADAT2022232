{
 "cells": [
  {
   "cell_type": "code",
   "execution_count": 70,
   "metadata": {},
   "outputs": [],
   "source": [
    "# imports\n",
    "import matplotlib.pyplot as plt\n",
    "import seaborn as sns\n",
    "sns.set()\n",
    "import numpy as np\n",
    "from sklearn.cluster import KMeans\n",
    "from sklearn.metrics import accuracy_score\n",
    "from scipy.stats import mode\n",
    "from sklearn.metrics import confusion_matrix"
   ]
  },
  {
   "cell_type": "code",
   "execution_count": 60,
   "metadata": {},
   "outputs": [],
   "source": [
    "# Készíts egy függvényt ami betölti a digits datasetet \n",
    "# NOTE: használd az sklearn load_digits-et\n",
    "# Függvény neve: load_digits()\n",
    "# Függvény visszatérési értéke: a load_digits visszatérési értéke\n",
    "import sklearn.datasets as datasets\n",
    "\n",
    "def load_digits():\n",
    "    return datasets.load_digits()\n"
   ]
  },
  {
   "cell_type": "code",
   "execution_count": 61,
   "metadata": {},
   "outputs": [
    {
     "name": "stdout",
     "output_type": "stream",
     "text": [
      ".. _digits_dataset:\n",
      "\n",
      "Optical recognition of handwritten digits dataset\n",
      "--------------------------------------------------\n",
      "\n",
      "**Data Set Characteristics:**\n",
      "\n",
      "    :Number of Instances: 1797\n",
      "    :Number of Attributes: 64\n",
      "    :Attribute Information: 8x8 image of integer pixels in the range 0..16.\n",
      "    :Missing Attribute Values: None\n",
      "    :Creator: E. Alpaydin (alpaydin '@' boun.edu.tr)\n",
      "    :Date: July; 1998\n",
      "\n",
      "This is a copy of the test set of the UCI ML hand-written digits datasets\n",
      "https://archive.ics.uci.edu/ml/datasets/Optical+Recognition+of+Handwritten+Digits\n",
      "\n",
      "The data set contains images of hand-written digits: 10 classes where\n",
      "each class refers to a digit.\n",
      "\n",
      "Preprocessing programs made available by NIST were used to extract\n",
      "normalized bitmaps of handwritten digits from a preprinted form. From a\n",
      "total of 43 people, 30 contributed to the training set and different 13\n",
      "to the test set. 32x32 bitmaps are divided into nonoverlapping blocks of\n",
      "4x4 and the number of on pixels are counted in each block. This generates\n",
      "an input matrix of 8x8 where each element is an integer in the range\n",
      "0..16. This reduces dimensionality and gives invariance to small\n",
      "distortions.\n",
      "\n",
      "For info on NIST preprocessing routines, see M. D. Garris, J. L. Blue, G.\n",
      "T. Candela, D. L. Dimmick, J. Geist, P. J. Grother, S. A. Janet, and C.\n",
      "L. Wilson, NIST Form-Based Handprint Recognition System, NISTIR 5469,\n",
      "1994.\n",
      "\n",
      ".. topic:: References\n",
      "\n",
      "  - C. Kaynak (1995) Methods of Combining Multiple Classifiers and Their\n",
      "    Applications to Handwritten Digit Recognition, MSc Thesis, Institute of\n",
      "    Graduate Studies in Science and Engineering, Bogazici University.\n",
      "  - E. Alpaydin, C. Kaynak (1998) Cascading Classifiers, Kybernetika.\n",
      "  - Ken Tang and Ponnuthurai N. Suganthan and Xi Yao and A. Kai Qin.\n",
      "    Linear dimensionalityreduction using relevance weighted LDA. School of\n",
      "    Electrical and Electronic Engineering Nanyang Technological University.\n",
      "    2005.\n",
      "  - Claudio Gentile. A New Approximate Maximal Margin Classification\n",
      "    Algorithm. NIPS. 2000.\n",
      "\n"
     ]
    }
   ],
   "source": [
    "# Vizsgáld meg a betöltött adatszetet (milyen elemek vannak benne stb.)\n",
    "digits = load_digits()\n",
    "print(digits.DESCR)  # Kiírja az adathalmaz leírását\n"
   ]
  },
  {
   "cell_type": "code",
   "execution_count": 62,
   "metadata": {},
   "outputs": [
    {
     "name": "stdout",
     "output_type": "stream",
     "text": [
      "[[ 0.  0.  5. ...  0.  0.  0.]\n",
      " [ 0.  0.  0. ... 10.  0.  0.]\n",
      " [ 0.  0.  0. ... 16.  9.  0.]\n",
      " ...\n",
      " [ 0.  0.  1. ...  6.  0.  0.]\n",
      " [ 0.  0.  2. ... 12.  0.  0.]\n",
      " [ 0.  0. 10. ... 12.  1.  0.]]\n",
      "[0 1 2 ... 8 9 8]\n"
     ]
    }
   ],
   "source": [
    "# Vizsgáld meg a data paraméterét a digits dataset-nek (tartalom,shape...)\n",
    "print(digits.data)   # Az adathalmaz összes elemének értékei\n",
    "print(digits.target) # Az adathalmaz összes elemének címkéje"
   ]
  },
  {
   "cell_type": "code",
   "execution_count": 63,
   "metadata": {},
   "outputs": [
    {
     "name": "stderr",
     "output_type": "stream",
     "text": [
      "/Users/andrashertelendy/miniforge3/lib/python3.10/site-packages/sklearn/cluster/_kmeans.py:870: FutureWarning: The default value of `n_init` will change from 10 to 'auto' in 1.4. Set the value of `n_init` explicitly to suppress the warning\n",
      "  warnings.warn(\n"
     ]
    }
   ],
   "source": [
    "# Készíts egy függvényt ami létrehoz egy KMeans model-t 10 db cluster-el\n",
    "# NOTE: használd az sklearn Kmeans model-jét (random_state legyen 0)\n",
    "# Miután megvan a model predict-elj vele \n",
    "# NOTE: használd a fit_predict-et\n",
    "# Függvény neve: predict(n_clusters:int,random_state:int,digits)\n",
    "# Függvény visszatérési értéke: (model:sklearn.cluster.KMeans,clusters:np.ndarray)\n",
    "\n",
    "def predict(n_clusters:int,random_state:int,digits):\n",
    "    model = KMeans(n_clusters=n_clusters, random_state=random_state)\n",
    "    clusters = model.fit_predict(digits.data)\n",
    "    return model, clusters\n",
    "\n",
    "model, clusters = predict(10, 0, digits)\n"
   ]
  },
  {
   "cell_type": "code",
   "execution_count": 64,
   "metadata": {},
   "outputs": [
    {
     "name": "stdout",
     "output_type": "stream",
     "text": [
      "(10, 64)\n"
     ]
    }
   ],
   "source": [
    "# Vizsgáld meg a shape-jét a kapott model cluster_centers_ paraméterének.\n",
    "\n",
    "print(model.cluster_centers_.shape)"
   ]
  },
  {
   "cell_type": "code",
   "execution_count": 65,
   "metadata": {},
   "outputs": [
    {
     "data": {
      "image/png": "[encoded data removed]",
      "text/plain": [
       "<Figure size 800x300 with 1 Axes>"
      ]
     },
     "metadata": {},
     "output_type": "display_data"
    }
   ],
   "source": [
    "# Készíts egy plotot ami a cluster középpontokat megjeleníti\n",
    "plt.figure(figsize=(8, 3))\n",
    "plt.imshow(model.cluster_centers_.reshape(10, -1), cmap='binary')\n",
    "plt.xticks(())\n",
    "plt.yticks(())\n",
    "plt.show()"
   ]
  },
  {
   "cell_type": "code",
   "execution_count": 66,
   "metadata": {},
   "outputs": [
    {
     "name": "stdout",
     "output_type": "stream",
     "text": [
      "[0 8 8 ... 8 9 9]\n"
     ]
    },
    {
     "name": "stderr",
     "output_type": "stream",
     "text": [
      "/var/folders/ln/7hhszmmj6vvchq4880q2hjqm0000gn/T/ipykernel_43173/4027147713.py:20: FutureWarning: Unlike other reduction functions (e.g. `skew`, `kurtosis`), the default behavior of `mode` typically preserves the axis it acts along. In SciPy 1.11.0, this behavior will change: the default value of `keepdims` will become False, the `axis` over which the statistic is taken will be eliminated, and the value None will no longer be accepted. Set `keepdims` to True or False to avoid this warning.\n",
      "  labels[mask] = mode(digits.target[mask])[0]\n"
     ]
    }
   ],
   "source": [
    "# Készíts egy függvényt ami visszaadja a predictált cluster osztályokat\n",
    "# NOTE: amit a predict-ből visszakaptunk \"clusters\" azok lesznek a predictált cluster osztályok\n",
    "# HELP: amit a model predictált cluster osztályok még nem a labelek, hanem csak random cluster osztályok, \n",
    "#       Hogy label legyen belőlük:\n",
    "#       1. készíts egy result array-t ami ugyan annyi elemű mint a predictált cluster array\n",
    "#       2. menj végig mindegyik cluster osztályon (0,1....9)\n",
    "#       3. készíts egy maszkot ami az adott cluster osztályba tartozó elemeket adja vissza\n",
    "#       4. a digits.target-jét indexeld meg ezzel a maszkkal\n",
    "#       5. számold ki ennel a subarray-nek a móduszát\n",
    "#       6. a result array-ben tedd egyenlővé a módusszal azokat az indexeket ahol a maszk True \n",
    "#       Erre azért van szükség mert semmi nem biztosítja nekünk azt, hogy a \"0\" cluster a \"0\" label lesz, lehet, hogy az \"5\" label lenne az.\n",
    "\n",
    "# Függvény neve: get_labels(clusters:np.ndarray, digits)\n",
    "# Függvény visszatérési értéke: labels:np.ndarray\n",
    "\n",
    "def get_labels(clusters:np.ndarray, digits):\n",
    "    labels = np.zeros_like(clusters)\n",
    "    for i in range(10):\n",
    "        mask = (clusters == i)\n",
    "        labels[mask] = mode(digits.target[mask])[0]\n",
    "    return labels\n",
    "\n",
    "labels = get_labels(clusters, digits)\n",
    "print(labels)"
   ]
  },
  {
   "cell_type": "code",
   "execution_count": 67,
   "metadata": {},
   "outputs": [
    {
     "name": "stdout",
     "output_type": "stream",
     "text": [
      "0.79\n"
     ]
    }
   ],
   "source": [
    "# Készíts egy függvényt ami kiszámolja a model accuracy-jét\n",
    "# Függvény neve: calc_accuracy(target_labels:np.ndarray,predicted_labels:np.ndarray)\n",
    "# Függvény visszatérési értéke: accuracy:float\n",
    "# NOTE: Kerekítsd 2 tizedes jegyre az accuracy-t\n",
    "\n",
    "def calc_accuracy(target_labels:np.ndarray,predicted_labels:np.ndarray):\n",
    "    accuracy = accuracy_score(target_labels, predicted_labels)\n",
    "    return round(accuracy, 2)\n",
    "\n",
    "accuracy = calc_accuracy(digits.target, labels)\n",
    "print(accuracy)"
   ]
  },
  {
   "cell_type": "code",
   "execution_count": 99,
   "metadata": {},
   "outputs": [
    {
     "data": {
      "image/png": "[encoded data removed]",
      "text/plain": [
       "<Figure size 640x480 with 1 Axes>"
      ]
     },
     "metadata": {},
     "output_type": "display_data"
    }
   ],
   "source": [
    "# Készíts egy confusion mátrixot és plot-old seaborn segítségével\n",
    "\n",
    "mat = confusion_matrix(digits.target, labels)\n",
    "sns.heatmap(mat.T, square=True, annot=True, fmt='d', cbar=False)\n",
    "plt.xlabel('true label')\n",
    "plt.ylabel('predicted label')\n",
    "plt.show()"
   ]
  }
 ],
 "metadata": {
  "kernelspec": {
   "display_name": "Python 3",
   "language": "python",
   "name": "python3"
  },
  "language_info": {
   "codemirror_mode": {
    "name": "ipython",
    "version": 3
   },
   "file_extension": ".py",
   "mimetype": "text/x-python",
   "name": "python",
   "nbconvert_exporter": "python",
   "pygments_lexer": "ipython3",
   "version": "3.10.6"
  },
  "orig_nbformat": 4
 },
 "nbformat": 4,
 "nbformat_minor": 2
}
