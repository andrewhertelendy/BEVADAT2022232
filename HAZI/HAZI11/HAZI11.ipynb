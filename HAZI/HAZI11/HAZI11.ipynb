{
  "cells": [
    {
      "cell_type": "code",
      "execution_count": 9,
      "metadata": {
        "id": "yOhwkmDnACaQ"
      },
      "outputs": [],
      "source": [
        "\n",
        "import tensorflow as tf\n",
        "from tensorflow.keras import datasets, layers, models\n",
        "import numpy as np\n",
        "\n",
        "'''\n",
        "Készíts egy metódust ami a cifar100 adatbázisból betölti a train és test adatokat. (tf.keras.datasets.cifar100.load_data())\n",
        "Majd a tanitó, és tesztelő adatokat normalizálja, és vissza is tér velük.\n",
        "\n",
        "\n",
        "Egy példa a kimenetre: train_images, train_labels, test_images, test_labels\n",
        "függvény neve: cifar100_data\n",
        "'''\n",
        "\n",
        "def cifar100_data():\n",
        "    (train_images, train_labels), (test_images, test_labels) = tf.keras.datasets.cifar100.load_data()\n",
        "    train_images, test_images = train_images / 255.0, test_images / 255.0\n",
        "    return train_images, train_labels, test_images, test_labels\n",
        "\n",
        "\n",
        "train_images, train_labels, test_images, test_labels = cifar100_data()"
      ]
    },
    {
      "cell_type": "code",
      "execution_count": 29,
      "metadata": {
        "colab": {
          "base_uri": "https://localhost:8080/"
        },
        "id": "9MRuHUiPACaS",
        "outputId": "e5e5a15c-463b-4a90-80c1-5b9ad7bc5080"
      },
      "outputs": [
        {
          "output_type": "execute_result",
          "data": {
            "text/plain": [
              "<keras.engine.sequential.Sequential at 0x7f442c211690>"
            ]
          },
          "metadata": {},
          "execution_count": 29
        }
      ],
      "source": [
        "'''\n",
        "Készíts egy konvolúciós neurális hálót, ami képes felismerni a képen mi van a 100 osztály közül.\n",
        "A háló kimenete legyen 100 elemű, és a softmax aktivációs függvényt használja.\n",
        "Hálon belül tetszőleges számú réteg lehet..\n",
        "\n",
        "\n",
        "Egy példa a kimenetre: model,\n",
        "return type: keras.engine.sequential.Sequential\n",
        "függvény neve: cifar100_model\n",
        "'''\n",
        "def cifar100_model():\n",
        "    model = models.Sequential()\n",
        "    model.add(layers.Conv2D(32, kernel_size=(3, 3), activation='relu', input_shape=(32,32,3)))\n",
        "    model.add(layers.MaxPooling2D(pool_size=(2, 2)))\n",
        "    model.add(layers.Conv2D(64, kernel_size=(3, 3), activation='relu'))\n",
        "    model.add(layers.MaxPooling2D(pool_size=(2, 2)))\n",
        "    model.add(layers.Conv2D(128, kernel_size=(3, 3), activation='relu'))\n",
        "    model.add(layers.MaxPooling2D(pool_size=(2, 2)))\n",
        "    model.add(layers.Flatten())\n",
        "    model.add(layers.Dense(256, activation='relu'))\n",
        "    model.add(layers.Dense(128, activation='relu'))\n",
        "    model.add(layers.Dense(100, activation='softmax'))\n",
        "    return model\n",
        "\n",
        "cifar100_model()"
      ]
    },
    {
      "cell_type": "code",
      "execution_count": 30,
      "metadata": {
        "colab": {
          "base_uri": "https://localhost:8080/"
        },
        "id": "HiMU8EkkACaU",
        "outputId": "f33ed174-862b-4a67-eca5-441e480b3fc4"
      },
      "outputs": [
        {
          "output_type": "execute_result",
          "data": {
            "text/plain": [
              "<keras.engine.sequential.Sequential at 0x7f442577ea40>"
            ]
          },
          "metadata": {},
          "execution_count": 30
        }
      ],
      "source": [
        "'''\n",
        "Készíts egy metódust, ami a bemeneti hálot compile-olja.\n",
        "Optimizer: Adam\n",
        "Loss: SparseCategoricalCrossentropy(from_logits=False)\n",
        "\n",
        "Egy példa a bemenetre: model\n",
        "Egy példa a kimenetre: model\n",
        "return type: keras.engine.sequential.Sequential\n",
        "függvény neve: model_compile\n",
        "'''\n",
        "def model_compile(model):\n",
        "    optimizer = tf.keras.optimizers.Adam()\n",
        "    loss = tf.keras.losses.SparseCategoricalCrossentropy(from_logits=False)\n",
        "    model.compile(optimizer=optimizer, loss=loss, metrics=['accuracy'])\n",
        "    return model\n",
        "model_compile(cifar100_model())\n"
      ]
    },
    {
      "cell_type": "code",
      "execution_count": null,
      "metadata": {
        "colab": {
          "base_uri": "https://localhost:8080/"
        },
        "id": "sin92fG7ACaU",
        "outputId": "b6068a1a-b4f5-4f65-df03-38eedd30677e"
      },
      "outputs": [
        {
          "output_type": "stream",
          "name": "stdout",
          "text": [
            "Epoch 1/18\n",
            "1563/1563 [==============================] - 86s 54ms/step - loss: 4.0088 - accuracy: 0.0763\n",
            "Epoch 2/18\n",
            "1563/1563 [==============================] - 86s 55ms/step - loss: 3.3385 - accuracy: 0.1918\n",
            "Epoch 3/18\n",
            "1563/1563 [==============================] - 85s 54ms/step - loss: 2.9802 - accuracy: 0.2549\n",
            "Epoch 4/18\n",
            "1563/1563 [==============================] - 86s 55ms/step - loss: 2.7444 - accuracy: 0.3043\n",
            "Epoch 5/18\n",
            "1563/1563 [==============================] - 84s 54ms/step - loss: 2.5641 - accuracy: 0.3397\n",
            "Epoch 6/18\n",
            "1563/1563 [==============================] - 85s 54ms/step - loss: 2.4133 - accuracy: 0.3707\n",
            "Epoch 7/18\n",
            "1563/1563 [==============================] - 86s 55ms/step - loss: 2.2920 - accuracy: 0.3982\n",
            "Epoch 8/18\n",
            "1563/1563 [==============================] - 84s 54ms/step - loss: 2.1785 - accuracy: 0.4248\n",
            "Epoch 9/18\n",
            "1563/1563 [==============================] - 85s 55ms/step - loss: 2.0809 - accuracy: 0.4456\n",
            "Epoch 10/18\n",
            "1563/1563 [==============================] - 85s 54ms/step - loss: 1.9862 - accuracy: 0.4643\n",
            "Epoch 11/18\n",
            "1563/1563 [==============================] - 86s 55ms/step - loss: 1.8976 - accuracy: 0.4841\n",
            "Epoch 12/18\n",
            "1563/1563 [==============================] - 85s 54ms/step - loss: 1.8188 - accuracy: 0.5015\n",
            "Epoch 13/18\n",
            "1563/1563 [==============================] - 87s 55ms/step - loss: 1.7372 - accuracy: 0.5220\n",
            "Epoch 14/18\n",
            "1521/1563 [============================>.] - ETA: 2s - loss: 1.6642 - accuracy: 0.5358"
          ]
        }
      ],
      "source": [
        "'''\n",
        "Készíts egy metódust, ami a bemeneti hálót feltanítja.\n",
        "\n",
        "Egy példa a bemenetre: model,epochs, train_images, train_labelsz\n",
        "Egy példa a kimenetre: model\n",
        "return type: keras.engine.sequential.Sequential\n",
        "függvény neve: model_fit\n",
        "'''\n",
        "def model_fit(model, epochs, train_images, train_labels):\n",
        "    return model.fit(train_images, train_labels, epochs=epochs)\n",
        "\n",
        "model = cifar100_model()\n",
        "model = model_compile(model)\n",
        "model_fit(model, 18, train_images, train_labels)\n",
        "\n",
        "# train_images, train_labels, test_images, test_labels = cifar100_data()\n",
        "# model = cifar100_model()\n",
        "# model = model_compile(model)\n",
        "# model, history = model_fit(model, 10, train_images, train_labels)\n",
        "\n",
        "\n",
        "\n"
      ]
    },
    {
      "cell_type": "code",
      "execution_count": 28,
      "metadata": {
        "colab": {
          "base_uri": "https://localhost:8080/"
        },
        "id": "w5hjCNlkACaV",
        "outputId": "94add0a1-1499-4aa6-def6-9a7f79e77a15"
      },
      "outputs": [
        {
          "output_type": "stream",
          "name": "stdout",
          "text": [
            "313/313 - 6s - loss: 2.6045 - accuracy: 0.3387 - 6s/epoch - 18ms/step\n"
          ]
        },
        {
          "output_type": "execute_result",
          "data": {
            "text/plain": [
              "(2.6044845581054688, 0.33869999647140503)"
            ]
          },
          "metadata": {},
          "execution_count": 28
        }
      ],
      "source": [
        "'''\n",
        "Készíts egy metódust, ami a bemeneti hálót kiértékeli a teszt adatokon.\n",
        "\n",
        "Egy példa a bemenetre: model, test_images, test_labels\n",
        "Egy példa a kimenetre: test_loss, test_acc\n",
        "return type: float, float\n",
        "függvény neve: model_evaluate\n",
        "'''\n",
        "def model_evaluate(model, test_images, test_labels):\n",
        "    test_loss, test_acc = model.evaluate(test_images, test_labels, verbose=2)\n",
        "    return test_loss, test_acc\n",
        "\n",
        "model_evaluate(model, test_images, test_labels)"
      ]
    }
  ],
  "metadata": {
    "kernelspec": {
      "display_name": "Python 3",
      "language": "python",
      "name": "python3"
    },
    "language_info": {
      "codemirror_mode": {
        "name": "ipython",
        "version": 3
      },
      "file_extension": ".py",
      "mimetype": "text/x-python",
      "name": "python",
      "nbconvert_exporter": "python",
      "pygments_lexer": "ipython3",
      "version": "3.10.10"
    },
    "orig_nbformat": 4,
    "colab": {
      "provenance": []
    }
  },
  "nbformat": 4,
  "nbformat_minor": 0
}