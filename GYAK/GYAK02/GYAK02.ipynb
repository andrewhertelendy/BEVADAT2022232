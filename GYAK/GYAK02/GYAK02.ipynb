{
  "cells": [
    {
      "cell_type": "code",
      "execution_count": 1,
      "metadata": {
        "id": "-3MWYxJl3AwJ"
      },
      "outputs": [],
      "source": [
        "import numpy as np"
      ]
    },
    {
      "cell_type": "code",
      "execution_count": null,
      "metadata": {
        "id": "HK6frNUu3AwL"
      },
      "outputs": [],
      "source": [
        "#FONTOS!!!\n",
        "\n",
        "# CSAK OTT LEHET HASZNÁLNI FOR LOOP-OT AHOL A FELADAT KÜLÖN KÉRI!\n",
        "# [1,2,3,4] --> ezek az értékek np.array-ek. Ahol listát kérek paraméterként ott külön ki fogom emelni!\n",
        "# Ha végeztél a feladatokkal, akkor notebook-ot alakítsd át .py.\n",
        "# A FÁJLBAN CSAK A FÜGGVÉNYEK LEGYENEK! (KOMMENTEK MARADHATNAK)"
      ]
    },
    {
      "cell_type": "code",
      "execution_count": 44,
      "metadata": {
        "colab": {
          "base_uri": "https://localhost:8080/"
        },
        "id": "gn09KNMQ3AwN",
        "outputId": "ce0e2cb4-5c52-42de-c797-fd60b3065c6b"
      },
      "outputs": [
        {
          "output_type": "execute_result",
          "data": {
            "text/plain": [
              "[[0, 0], [0, 0]]"
            ]
          },
          "metadata": {},
          "execution_count": 44
        }
      ],
      "source": [
        "#Készíts egy függvényt ami létre hoz egy nullákkal teli numpy array-t.\n",
        "#Paraméterei: mérete (tuple-ként), default mérete pedig legyen egy (2,2)\n",
        "#Be: (2,2)\n",
        "#Ki: [[0,0],[0,0]]\n",
        "#create_array()"
      ]
    },
    {
      "cell_type": "code",
      "execution_count": 43,
      "metadata": {
        "id": "zVOn4aS_3AwO"
      },
      "outputs": [],
      "source": [
        "def create_array(size=(2,2)):\n",
        "    return np.zeros(size, dtype=int).tolist()"
      ]
    },
    {
      "cell_type": "code",
      "execution_count": 42,
      "metadata": {
        "id": "2B4kZrUC3AwP"
      },
      "outputs": [],
      "source": [
        "#Készíts egy függvényt ami a paraméterként kapott array-t főátlóját feltölti egyesekkel\n",
        "#Be: [[1,2],[3,4]]\n",
        "#Ki: [[1,2],[3,1]]\n",
        "#set_one(arr)"
      ]
    },
    {
      "cell_type": "code",
      "execution_count": 41,
      "metadata": {
        "id": "EYtRqg-W3AwP"
      },
      "outputs": [],
      "source": [
        "def set_one(arr = np.array([[1,2],[3,4]])):\n",
        "  return np.fill_diagonal(arr, 1)"
      ]
    },
    {
      "cell_type": "code",
      "execution_count": 24,
      "metadata": {
        "colab": {
          "base_uri": "https://localhost:8080/"
        },
        "id": "Lz3M09v93AwP",
        "outputId": "7dbbcb3b-03e7-4fcd-b6eb-fbc72bac813e"
      },
      "outputs": [
        {
          "output_type": "execute_result",
          "data": {
            "text/plain": [
              "array([[1, 3],\n",
              "       [2, 4]])"
            ]
          },
          "metadata": {},
          "execution_count": 24
        }
      ],
      "source": [
        "# Készíts egy függvényt ami transzponálja a paraméterül kapott mártix-ot:\n",
        "# Be: [[1, 2], [3, 4]]\n",
        "# Ki: [[1, 3], [2, 4]]\n",
        "# do_transpose(a)"
      ]
    },
    {
      "cell_type": "code",
      "execution_count": 23,
      "metadata": {
        "id": "-QIFUbfD3AwQ"
      },
      "outputs": [],
      "source": [
        "def do_transpose(arr):\n",
        "  return np.transpose(arr)"
      ]
    },
    {
      "cell_type": "code",
      "execution_count": 31,
      "metadata": {
        "colab": {
          "base_uri": "https://localhost:8080/"
        },
        "id": "8ptrco9q3Awg",
        "outputId": "d02afeea-7d61-4331-f271-4b94cede8a73"
      },
      "outputs": [
        {
          "output_type": "execute_result",
          "data": {
            "text/plain": [
              "array([0.12, 0.17])"
            ]
          },
          "metadata": {},
          "execution_count": 31
        }
      ],
      "source": [
        "# Készíts egy olyan függvényt ami az array-ben lévő értékeket N tizenedjegyik kerekíti, ha nincs megadva ez a paraméter, akkor legyen az alapértelmezett a kettő \n",
        "# Be: [0.1223, 0.1675], 2\n",
        "# Ki: [0.12, 0.17]\n",
        "# round_array(a, 2)"
      ]
    },
    {
      "cell_type": "code",
      "execution_count": 30,
      "metadata": {
        "id": "fLrM1D4c3Awh"
      },
      "outputs": [],
      "source": [
        "def round_array(a = np.array([0.1223, 0.1675]), n = 2):\n",
        "  return np.around(a, n)"
      ]
    },
    {
      "cell_type": "code",
      "execution_count": 33,
      "metadata": {
        "colab": {
          "base_uri": "https://localhost:8080/"
        },
        "id": "2ZvFywHc3Awh",
        "outputId": "e36a5df3-cb45-491d-86e5-35d5e633f440"
      },
      "outputs": [
        {
          "output_type": "execute_result",
          "data": {
            "text/plain": [
              "array([[ True, False, False],\n",
              "       [ True,  True,  True],\n",
              "       [False, False, False]])"
            ]
          },
          "metadata": {},
          "execution_count": 33
        }
      ],
      "source": [
        "# Készíts egy olyan függvényt, ami a bementként kapott 0 és 1 ből álló tömben a 0 - False-ra, az 1 True-ra cserélni\n",
        "# Be: [[1, 0, 0], [1, 1, 1],[0, 0, 0]]\n",
        "# Ki: [[ True False False], [ True  True  True], [False False False]]\n",
        "# bool_array()"
      ]
    },
    {
      "cell_type": "code",
      "execution_count": 32,
      "metadata": {
        "id": "Zkdk-k5p3Awi"
      },
      "outputs": [],
      "source": [
        "def bool_array(a = np.array([[1, 0, 0], [1, 1, 1],[0, 0, 0]])):\n",
        "  return a!=0"
      ]
    },
    {
      "cell_type": "code",
      "execution_count": 36,
      "metadata": {
        "colab": {
          "base_uri": "https://localhost:8080/"
        },
        "id": "DQA33DYs3Awi",
        "outputId": "a7eea104-e5f5-43c0-9fb5-1d5260fab34c"
      },
      "outputs": [
        {
          "output_type": "execute_result",
          "data": {
            "text/plain": [
              "array([[ True, False, False],\n",
              "       [ True,  True,  True],\n",
              "       [False, False, False]])"
            ]
          },
          "metadata": {},
          "execution_count": 36
        }
      ],
      "source": [
        "# Készíts egy olyan függvényt, ami a bementként kapott 0 és 1 ből álló tömben a 1 - False-ra az 0 True-ra cserélni\n",
        "# Be: [[1, 0, 0], [1, 1, 1],[0, 0, 0]]\n",
        "# Ki: [[ False True True], [ False  False  False], [True True True]]\n",
        "# invert_bool_array()"
      ]
    },
    {
      "cell_type": "code",
      "execution_count": 35,
      "metadata": {
        "id": "ee2klxf_3Awi"
      },
      "outputs": [],
      "source": [
        "def invert_bool_array(a = np.array([[1, 0, 0], [1, 1, 1],[0, 0, 0]])):\n",
        "  return a!=0"
      ]
    },
    {
      "cell_type": "code",
      "execution_count": 40,
      "metadata": {
        "colab": {
          "base_uri": "https://localhost:8080/"
        },
        "id": "-vqa-IwZ3Awi",
        "outputId": "bfc7cc6e-40bb-4cd6-f25c-46c02371e05e"
      },
      "outputs": [
        {
          "output_type": "execute_result",
          "data": {
            "text/plain": [
              "array([1, 2, 3, 4])"
            ]
          },
          "metadata": {},
          "execution_count": 40
        }
      ],
      "source": [
        "# Készíts egy olyan függvényt ami a paraméterként kapott array-t kilapítja\n",
        "# Be: [[1,2], [3,4]]\n",
        "# Ki: [1,2,3,4]\n",
        "# flatten()\n"
      ]
    },
    {
      "cell_type": "code",
      "execution_count": 39,
      "metadata": {
        "id": "Y92qKcmH3Awj"
      },
      "outputs": [],
      "source": [
        "def flatten(a = np.array([[1,2], [3,4]])):\n",
        "  return a.flatten()"
      ]
    }
  ],
  "metadata": {
    "kernelspec": {
      "display_name": "Python 3 (ipykernel)",
      "language": "python",
      "name": "python3"
    },
    "language_info": {
      "codemirror_mode": {
        "name": "ipython",
        "version": 3
      },
      "file_extension": ".py",
      "mimetype": "text/x-python",
      "name": "python",
      "nbconvert_exporter": "python",
      "pygments_lexer": "ipython3",
      "version": "3.11.2"
    },
    "colab": {
      "provenance": []
    }
  },
  "nbformat": 4,
  "nbformat_minor": 0
}